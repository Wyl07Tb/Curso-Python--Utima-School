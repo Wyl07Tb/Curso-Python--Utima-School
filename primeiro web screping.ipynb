{
  "nbformat": 4,
  "nbformat_minor": 0,
  "metadata": {
    "colab": {
      "provenance": [],
      "mount_file_id": "1Apgd5sa1NiA3eDyPPOO2PdejPz1SAvdO",
      "authorship_tag": "ABX9TyMI9ViCGt4UDiWFUmXeRs+g",
      "include_colab_link": true
    },
    "kernelspec": {
      "name": "python3",
      "display_name": "Python 3"
    },
    "language_info": {
      "name": "python"
    }
  },
  "cells": [
    {
      "cell_type": "markdown",
      "metadata": {
        "id": "view-in-github",
        "colab_type": "text"
      },
      "source": [
        "<a href=\"https://colab.research.google.com/github/Wyl07Tb/Curso-Python--Utima-School/blob/Curso-Python-%C3%9AtimaSchool/primeiro%20web%20screping.ipynb\" target=\"_parent\"><img src=\"https://colab.research.google.com/assets/colab-badge.svg\" alt=\"Open In Colab\"/></a>"
      ]
    },
    {
      "cell_type": "code",
      "execution_count": 14,
      "metadata": {
        "id": "9JyoC6BDRLiM"
      },
      "outputs": [],
      "source": [
        "import requests\n",
        "from bs4 import BeautifulSoup"
      ]
    },
    {
      "cell_type": "code",
      "source": [
        "url_base = \"https://lista.mercadolivre.com.br/\""
      ],
      "metadata": {
        "id": "4fNPOx1EWGMA"
      },
      "execution_count": 15,
      "outputs": []
    },
    {
      "cell_type": "code",
      "source": [
        "product_name = input(\"Escolha o produto: \")"
      ],
      "metadata": {
        "colab": {
          "base_uri": "https://localhost:8080/"
        },
        "id": "3CIBYdHOXjRe",
        "outputId": "512c30cf-b550-463c-89c6-78124bfe7dbd"
      },
      "execution_count": 16,
      "outputs": [
        {
          "name": "stdout",
          "output_type": "stream",
          "text": [
            "Escolha o produto: mesa 3 lugares\n"
          ]
        }
      ]
    },
    {
      "cell_type": "code",
      "source": [
        "nome_trat = product_name.replace(\" \", \"-\")"
      ],
      "metadata": {
        "id": "OalTnGOOX-w-"
      },
      "execution_count": 17,
      "outputs": []
    },
    {
      "cell_type": "code",
      "source": [
        "url_produto = url_base + nome_trat"
      ],
      "metadata": {
        "id": "GINQb9JzYuLp"
      },
      "execution_count": 18,
      "outputs": []
    },
    {
      "cell_type": "code",
      "source": [
        "url_produto"
      ],
      "metadata": {
        "colab": {
          "base_uri": "https://localhost:8080/",
          "height": 35
        },
        "id": "6eodVqG2aETm",
        "outputId": "ae6c2e43-901d-4d85-e125-fe30f102b2d4"
      },
      "execution_count": 19,
      "outputs": [
        {
          "output_type": "execute_result",
          "data": {
            "text/plain": [
              "'https://lista.mercadolivre.com.br/mesa-3-lugares'"
            ],
            "application/vnd.google.colaboratory.intrinsic+json": {
              "type": "string"
            }
          },
          "metadata": {},
          "execution_count": 19
        }
      ]
    },
    {
      "cell_type": "code",
      "source": [
        "response = requests.get(url_produto)\n",
        "print(response)"
      ],
      "metadata": {
        "colab": {
          "base_uri": "https://localhost:8080/"
        },
        "id": "_kisIVyHauFZ",
        "outputId": "92aaf6f9-2324-493d-ce99-3399249b3d8e"
      },
      "execution_count": 20,
      "outputs": [
        {
          "output_type": "stream",
          "name": "stdout",
          "text": [
            "<Response [200]>\n"
          ]
        }
      ]
    },
    {
      "cell_type": "code",
      "source": [
        "site = BeautifulSoup(response.text, \"html.parser\")"
      ],
      "metadata": {
        "id": "4Y2rZ1BebKkE"
      },
      "execution_count": 21,
      "outputs": []
    },
    {
      "cell_type": "code",
      "source": [
        "dados = site.find_all(\"div\", attrs= {\"class\" : \"ui-search-result__content-wrapper shops__result-content-wrapper\"})"
      ],
      "metadata": {
        "id": "QGISe-3KcOpq"
      },
      "execution_count": 22,
      "outputs": []
    },
    {
      "cell_type": "code",
      "source": [
        "produtos = []\n",
        "precos = []\n",
        "for x in dados:\n",
        "  #nome do produto\n",
        "  nome_mineracao = x.find_all(\"h2\")[0].text\n",
        "  produtos.append(nome_mineracao)\n",
        "\n",
        "  #preço do produto\n",
        "  preco_mineracao = x.find_all(\"span\", class_=\"price-tag ui-search-price__part shops__price-part\")[0].text\n",
        "  preco_trat = preco_mineracao.split(' ')[0]\n",
        "  precos.append(preco_trat)"
      ],
      "metadata": {
        "id": "q0hAS-ncfllG"
      },
      "execution_count": 23,
      "outputs": []
    },
    {
      "cell_type": "code",
      "source": [
        "import pandas as pd"
      ],
      "metadata": {
        "id": "fTYJ643ciHIA"
      },
      "execution_count": 24,
      "outputs": []
    },
    {
      "cell_type": "code",
      "source": [
        "dados_coletados = {\n",
        "    \"Nome\" : produtos,\n",
        "    \"Preco\" : precos\n",
        "}"
      ],
      "metadata": {
        "id": "MS08MDBNnB-0"
      },
      "execution_count": 25,
      "outputs": []
    },
    {
      "cell_type": "code",
      "source": [
        "tabela = pd.DataFrame(dados_coletados)"
      ],
      "metadata": {
        "id": "luw8VKxMnA_O"
      },
      "execution_count": 26,
      "outputs": []
    },
    {
      "cell_type": "code",
      "source": [
        "tabela"
      ],
      "metadata": {
        "id": "jw3lx-40n-CN"
      },
      "execution_count": null,
      "outputs": []
    },
    {
      "cell_type": "code",
      "source": [],
      "metadata": {
        "id": "w_9GLJ0KpSh3"
      },
      "execution_count": null,
      "outputs": []
    }
  ]
}